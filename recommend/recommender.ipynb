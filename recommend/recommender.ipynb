{
 "cells": [
  {
   "cell_type": "code",
   "execution_count": 9,
   "metadata": {},
   "outputs": [],
   "source": [
    "import numpy as np\n",
    "import pandas as pd\n",
    "import time"
   ]
  },
  {
   "cell_type": "code",
   "execution_count": 10,
   "metadata": {},
   "outputs": [],
   "source": [
    "from Data import Data\n",
    "from Evaluation import Evaluation\n",
    "from MostPopular import MostPopular\n",
    "from UserCF import UserCF\n",
    "from ItemCF import ItemCF\n",
    "from LFM import LFM\n",
    "\n",
    "from linearEnsemble import linearEnsemble\n",
    "from andEnsemble import andEnsemble\n",
    "from orEnsemble import orEnsemble\n",
    "\n",
    "from thirdLevelEnsemble import thirdLevelEnsemble"
   ]
  },
  {
   "cell_type": "code",
   "execution_count": 11,
   "metadata": {},
   "outputs": [
    {
     "name": "stdout",
     "output_type": "stream",
     "text": [
      "            algorithm  precision_0  recall_0  coverage_0  popularity_0  \\\n",
      "0         MostPopular          0.0       0.0   15.000000      0.000000   \n",
      "1              ItemCF          0.0       0.0   48.333333      2.671429   \n",
      "2              UserCF          0.0       0.0   51.666667      2.906667   \n",
      "3                 LFM          0.0       0.0   46.666667      1.626667   \n",
      "4      linearEnsemble          0.0       0.0   53.333333      2.840000   \n",
      "5         andEnsemble          0.0       0.0   23.333333      3.244444   \n",
      "6          orEnsemble          0.0       0.0   40.000000      3.011111   \n",
      "7  thirdLevelEnsemble          0.0       0.0   36.666667      3.211111   \n",
      "\n",
      "    times_0  precision_1  recall_1  coverage_1  popularity_1    ...     \\\n",
      "0  0.000000          0.0       0.0   16.666667      0.000000    ...      \n",
      "1  0.015600          0.0       0.0   50.000000      2.650000    ...      \n",
      "2  0.031200          0.0       0.0   38.333333      3.276471    ...      \n",
      "3  0.292211          0.0       0.0   40.000000      1.670588    ...      \n",
      "4  0.296400          0.0       0.0   50.000000      2.882353    ...      \n",
      "5  0.289801          0.0       0.0   33.333333      3.204082    ...      \n",
      "6  0.282800          0.0       0.0   28.333333      3.500000    ...      \n",
      "7  0.748801          0.0       0.0   40.000000      3.313725    ...      \n",
      "\n",
      "   precision_8  recall_8  coverage_8  popularity_8   times_8  precision_9  \\\n",
      "0          0.0       0.0   13.333333      0.000000  0.015600          0.0   \n",
      "1          0.0       0.0   70.000000      2.376471  0.000000          0.0   \n",
      "2          0.0       0.0   51.666667      2.642105  0.015600          0.0   \n",
      "3          0.0       0.0   41.666667      1.710526  0.202800          0.0   \n",
      "4          0.0       0.0   75.000000      2.257895  0.234000          0.0   \n",
      "5          0.0       0.0   43.333333      2.812500  0.218400          0.0   \n",
      "6          0.0       0.0   43.333333      2.921053  0.218400          0.0   \n",
      "7          0.0       0.0   50.000000      2.482456  0.764401          0.0   \n",
      "\n",
      "   recall_9  coverage_9  popularity_9   times_9  \n",
      "0       0.0   15.000000      0.000000  0.000000  \n",
      "1       0.0   48.333333      2.671429  0.078000  \n",
      "2       0.0   51.666667      2.906667  0.031200  \n",
      "3       0.0   51.666667      1.846667  0.358801  \n",
      "4       0.0   55.000000      2.866667  0.374401  \n",
      "5       0.0   28.333333      3.261364  0.343201  \n",
      "6       0.0   30.000000      3.422222  0.343200  \n",
      "7       0.0   36.666667      3.233333  0.951602  \n",
      "\n",
      "[8 rows x 51 columns]\n"
     ]
    }
   ],
   "source": [
    "if __name__ == '__main__':\n",
    "    allgs=[MostPopular,ItemCF, UserCF, LFM , linearEnsemble, andEnsemble, orEnsemble, thirdLevelEnsemble]\n",
    "    \n",
    "    df=pd.DataFrame()\n",
    "    \n",
    "    exp=10\n",
    "    \n",
    "    for i in range(exp):\n",
    "        name1='precision_%d'%i\n",
    "        name2='recall_%d'%i\n",
    "        name3='coverage_%d'%i\n",
    "        name4='popularity_%d'%i\n",
    "        name5='times_%d'%i\n",
    "        \n",
    "        name11=[]\n",
    "        name22=[]\n",
    "        name33=[]\n",
    "        name44=[]\n",
    "        name55=[]\n",
    "        \n",
    "        dt=Data()\n",
    "        for alg in allgs:\n",
    "            start=time.time()\n",
    "            recommend=alg(dt)\n",
    "            recommend.compute_recommendation()\n",
    "            eva=Evaluation(recommend)\n",
    "            eva.evaluate()\n",
    "            \n",
    "            name11.append(eva.precision)\n",
    "            name22.append(eva.recall)\n",
    "            name33.append(eva.coverage)\n",
    "            name44.append(eva.popularity)\n",
    "            name55.append(time.time()-start)\n",
    "        \n",
    "        df['algorithm']=[algorithm.__name__ for algorithm in allgs]\n",
    "        df[name1]=name11\n",
    "        df[name2]=name22\n",
    "        df[name3]=name33\n",
    "        df[name4]=name44\n",
    "        df[name5]=name55\n",
    "    print(df.head(10))"
   ]
  },
  {
   "cell_type": "code",
   "execution_count": 12,
   "metadata": {},
   "outputs": [],
   "source": [
    "ddf=pd.DataFrame()\n",
    "ddf['alg']=df['algorithm']\n",
    "    \n",
    "evan=['coverage','popularity','times','precision','recall']\n",
    "for i in range(len(evan)):\n",
    "    ddf['avg_%s_on_%d_experiment'%(evan[i],exp)]=0\n",
    "    \n",
    "for i in range(len(evan)):\n",
    "    for j in range(exp):\n",
    "        ddf['avg_%s_on_%d_experiment'%(evan[i],exp)]+=df['%s_%d'%(evan[i],j)]\n",
    "\n",
    "for i in range(len(evan)):\n",
    "    ddf['avg_%s_on_%d_experiment'%(evan[i],exp)]=ddf['avg_%s_on_%d_experiment'%(evan[i],exp)]/exp"
   ]
  },
  {
   "cell_type": "code",
   "execution_count": 13,
   "metadata": {},
   "outputs": [
    {
     "name": "stdout",
     "output_type": "stream",
     "text": [
      "                  alg  avg_coverage_on_10_experiment  \\\n",
      "0         MostPopular                      15.000000   \n",
      "1              ItemCF                      57.666667   \n",
      "2              UserCF                      50.000000   \n",
      "3                 LFM                      48.166667   \n",
      "4      linearEnsemble                      61.833333   \n",
      "5         andEnsemble                      37.333333   \n",
      "6          orEnsemble                      37.833333   \n",
      "7  thirdLevelEnsemble                      43.833333   \n",
      "\n",
      "   avg_popularity_on_10_experiment  avg_times_on_10_experiment  \\\n",
      "0                         0.000000                    0.004680   \n",
      "1                         2.550159                    0.021840   \n",
      "2                         2.889163                    0.015600   \n",
      "3                         1.597334                    0.252301   \n",
      "4                         2.634469                    0.270121   \n",
      "5                         3.067926                    0.253081   \n",
      "6                         3.064165                    0.251360   \n",
      "7                         2.893252                    0.846002   \n",
      "\n",
      "   avg_precision_on_10_experiment  avg_recall_on_10_experiment  \n",
      "0                             0.0                          0.0  \n",
      "1                             0.0                          0.0  \n",
      "2                             0.0                          0.0  \n",
      "3                             0.0                          0.0  \n",
      "4                             0.0                          0.0  \n",
      "5                             0.0                          0.0  \n",
      "6                             0.0                          0.0  \n",
      "7                             0.0                          0.0  \n"
     ]
    }
   ],
   "source": [
    "print(ddf.head(10))"
   ]
  },
  {
   "cell_type": "code",
   "execution_count": 14,
   "metadata": {},
   "outputs": [
    {
     "data": {
      "text/plain": [
       "1172"
      ]
     },
     "execution_count": 14,
     "metadata": {},
     "output_type": "execute_result"
    }
   ],
   "source": [
    "import gc\n",
    "gc.collect()"
   ]
  },
  {
   "cell_type": "markdown",
   "metadata": {},
   "source": [
    "# 根据最好的模型，进行为所有用户进行推荐"
   ]
  },
  {
   "cell_type": "code",
   "execution_count": 15,
   "metadata": {},
   "outputs": [
    {
     "name": "stdout",
     "output_type": "stream",
     "text": [
      "Recommend List As Below:\n",
      "C2016005\n",
      "['203012', '1591004', '1003001', '291039', '403004']\n",
      "--------------------\n",
      "C2004003\n",
      "['9191007', '591004', '591002', '191506', '501013']\n",
      "--------------------\n",
      "C2018002\n",
      "['1503001', '1016015', '203006', '291039', '1003001']\n",
      "--------------------\n",
      "C2011020\n",
      "['990009', '121065', '1503001', '203012', '1016015']\n",
      "--------------------\n",
      "C2003001\n",
      "['690018', '1803007', '203012', '990009', '1503015']\n",
      "--------------------\n",
      "C2018001\n",
      "['1003001', '201012', '591003', '1016015', '291039']\n",
      "--------------------\n",
      "C2002007\n",
      "['2309002', '591003', '403001', '191506', '1803007']\n",
      "--------------------\n",
      "C2001002\n",
      "['9191007', '923039', '101079', '119014', '101086']\n",
      "--------------------\n",
      "C2028001\n",
      "['1001002', '111001', '101079', '591002', '990039']\n",
      "--------------------\n",
      "C2016004\n",
      "['591002', '591004', '1003001', '9191007', '191394']\n",
      "--------------------\n",
      "C2016009\n",
      "['2309002', '1003001', '101079', '201012', '503003']\n",
      "--------------------\n",
      "C2002002\n",
      "['111001', '101079', '121065', '403001', '990009']\n",
      "--------------------\n",
      "C2019001\n",
      "['1016014', '421003', '591002', '490039', '201012']\n",
      "--------------------\n",
      "C2002010\n",
      "['101086', '1029004', '291039', '9191007', '191506']\n",
      "--------------------\n",
      "C2000007\n",
      "['101086', '111001', '191506', '591003', '1491008']\n",
      "--------------------\n",
      "C2012001\n",
      "['503003', '1503015', '591004', '1003001', '201012']\n",
      "--------------------\n",
      "C2017001\n",
      "['1003001', '403001', '203006', '1503001', '690018']\n",
      "--------------------\n",
      "C2012002\n",
      "['690002', '990039', '2309002', '1603004', '990701']\n",
      "--------------------\n",
      "C1001001\n",
      "['111001', '101079', '403001', '191506', '101086']\n",
      "--------------------\n",
      "C1702009\n",
      "['101079', '421003', '501013', '591003', '403001']\n",
      "--------------------\n",
      "C1008001\n",
      "['101079', '421003', '501013', '591003', '403001']\n",
      "--------------------\n",
      "C2016003\n",
      "['490039', '906032', '1491003', '591002', '101086']\n",
      "--------------------\n",
      "C2012011\n",
      "['9191007', '923039', '101079', '119014', '101086']\n",
      "--------------------\n",
      "C2002008\n",
      "['591004', '203012', '1003001', '906032', '291039']\n",
      "--------------------\n",
      "C2011021\n",
      "['1603001', '1803007', '591003', '503003', '2309002']\n",
      "--------------------\n",
      "C2016014\n",
      "['111001', '119014', '191506', '101086', '2101007']\n",
      "--------------------\n",
      "C2012003\n",
      "['9191007', '111001', '119014', '990009', '923039']\n",
      "--------------------\n",
      "C1007002\n",
      "['1', '9', '5', '0', '6']\n",
      "--------------------\n",
      "C2012004\n",
      "['1503001', '1003001', '121065', '203012', '690018']\n",
      "--------------------\n"
     ]
    }
   ],
   "source": [
    "dt=Data()\n",
    "best_clf=linearEnsemble(dt)\n",
    "best_clf.compute_recommendation()\n",
    "print(\"Recommend List As Below:\")\n",
    "for user in dt.users:\n",
    "    print(user)\n",
    "    print(best_clf.recommendation[user])\n",
    "    print('-'*20)"
   ]
  },
  {
   "cell_type": "code",
   "execution_count": null,
   "metadata": {},
   "outputs": [],
   "source": []
  }
 ],
 "metadata": {
  "kernelspec": {
   "display_name": "Python 3",
   "language": "python",
   "name": "python3"
  },
  "language_info": {
   "codemirror_mode": {
    "name": "ipython",
    "version": 3
   },
   "file_extension": ".py",
   "mimetype": "text/x-python",
   "name": "python",
   "nbconvert_exporter": "python",
   "pygments_lexer": "ipython3",
   "version": "3.6.4"
  }
 },
 "nbformat": 4,
 "nbformat_minor": 2
}
