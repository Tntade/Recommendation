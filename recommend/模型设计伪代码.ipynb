{
 "cells": [
  {
   "cell_type": "code",
   "execution_count": 11,
   "metadata": {},
   "outputs": [],
   "source": [
    "import pandas as pd\n",
    "import numpy as np"
   ]
  },
  {
   "cell_type": "code",
   "execution_count": 12,
   "metadata": {},
   "outputs": [],
   "source": [
    "path='E:\\\\Python2Projects_LOCAL\\\\yf_data\\\\yufang0508.csv'\n",
    "df=pd.read_csv(path)"
   ]
  },
  {
   "cell_type": "markdown",
   "metadata": {},
   "source": [
    "# 模型设计V2"
   ]
  },
  {
   "cell_type": "code",
   "execution_count": null,
   "metadata": {},
   "outputs": [],
   "source": [
    "if user not in users: #新用户\n",
    "    recs=MostPopular_with_apriori()  #按照商品热度进行推荐,同时,将训练得到的绑定产品同时推荐\n",
    "else:                         #老用户\n",
    "    if user not in churn_item.keys():  #用户正常购买\n",
    "        if recent_consult_num>3:              #用户近期有询价但没有购买的商品\n",
    "            top3=LTR(recent_consult_list)     #对询价的产品进行排序，取top3进行推荐\n",
    "            recs=ItemCF_with_discount@top3    #则根据询价产品进行ItemCF推荐，并给予价格优惠\n",
    "        elif recent_consult_num < =3:       #如果询价的产品小于3只\n",
    "            recs=ItemCF_with_discount@consult_items   #根据ItemCF推荐，并给予价格优惠\n",
    "        elif recent_consult_num==0:   #没有询价产品，或者说询价了也买了\n",
    "            recs=UserCF_with_apriori()  #则根据UserCF_with_apriori进行推荐\n",
    "    else:   #在流失名单中\n",
    "        un_normal_list.to_csv(path,index=False)  #保存and输出\n",
    "        print(un_normal_list)\n",
    "        un_normal_items=churn_item[user]   #异常购买商品\n",
    "        recs=ItemCF_with_discount@un_normal_items #根据异常购买商品进行ItemCF推荐，并给予价格优惠"
   ]
  },
  {
   "cell_type": "markdown",
   "metadata": {},
   "source": [
    "# 模型设计V3_20190604"
   ]
  },
  {
   "cell_type": "code",
   "execution_count": null,
   "metadata": {},
   "outputs": [],
   "source": [
    "#first level\n",
    "if user is new:\n",
    "    if user_industry is new:\n",
    "        recs1=Recommend company's top5 items\n",
    "    else:\n",
    "        recs2=MostPopular()\n",
    "recs3=UserCF\n",
    "recs4=ItemCF\n",
    "recs5=LFM\n",
    "\n",
    "#second level\n",
    "algs=[UserCF,ItemCF,LFM]\n",
    "algs_weight={'UserCF':0.3,'ItemCF':0.3,'LFM':0.4} which should be given according to their offline scores\n",
    "linearEnsemble=algs*algs_weight\n",
    "andEnsemble=recommend topn from (algs[0] & algs[1] & algs[2])\n",
    "orEnsemble=recommend topn from (algs[0] | algs[1] | algs[2])\n",
    "\n",
    "#third level\n",
    "algs=[linearEnsemble,andEnsemble,orEnsemble]\n",
    "thirdLevelEnsemble=finial recommend topf from (algs[0] & algs[1] & algs[2])"
   ]
  },
  {
   "cell_type": "markdown",
   "metadata": {},
   "source": [
    "# 模型设计V4_20190617"
   ]
  },
  {
   "cell_type": "code",
   "execution_count": null,
   "metadata": {},
   "outputs": [],
   "source": [
    "#基于上一次版本，本次作了以下调整：\n",
    "（1）将所有的users分成old_users+new_users;\n",
    "——其中，old_users拆分成train and test二个部分，train用来训练，test用来验证，从而来提升我们验证结果的可参考性\n",
    "——其中，new_users涉及到用户冷启动，所以直接采用了基于产品热度的推荐算法\n",
    "\n",
    "#first level\n",
    "if user in new_users:\n",
    "    if user_industry is new:\n",
    "        recs=recommend topN items in company\n",
    "    else: recs=MostPopular()\n",
    "else:\n",
    "    recs1=UserCF\n",
    "    recs2=ItemCF\n",
    "    recs3=LFM\n",
    "\n",
    "#second level\n",
    "algs=[UserCF,ItemCF,LFM]\n",
    "algs_weight={'UserCF':0.3,'ItemCF':0.3,'LFM':0.4} according to their offline scores\n",
    "linearEnsemble=sum(algs*algs_weight)\n",
    "andEnsemble=recommend topn in (algs[0] & algs[1] & algs[2])\n",
    "orEnsemble=recommend topn in (algs[0] | algs[1] | algs[2])\n",
    "\n",
    "#third level\n",
    "algs=[linearEnsemble,andEnsemble,orEnsemble]\n",
    "final=thirdLevelEnsemble=topf in (algs[0] & algs[1] & algs[2])"
   ]
  },
  {
   "cell_type": "code",
   "execution_count": null,
   "metadata": {},
   "outputs": [],
   "source": []
  }
 ],
 "metadata": {
  "kernelspec": {
   "display_name": "Python 3",
   "language": "python",
   "name": "python3"
  },
  "language_info": {
   "codemirror_mode": {
    "name": "ipython",
    "version": 3
   },
   "file_extension": ".py",
   "mimetype": "text/x-python",
   "name": "python",
   "nbconvert_exporter": "python",
   "pygments_lexer": "ipython3",
   "version": "3.6.4"
  }
 },
 "nbformat": 4,
 "nbformat_minor": 2
}
